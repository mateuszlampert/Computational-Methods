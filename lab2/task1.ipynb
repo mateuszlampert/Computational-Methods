{
 "cells": [
  {
   "cell_type": "markdown",
   "metadata": {},
   "source": [
    "# Zadanie 1"
   ]
  },
  {
   "cell_type": "code",
   "execution_count": 12,
   "metadata": {},
   "outputs": [],
   "source": [
    "import numpy as np\n",
    "import time"
   ]
  },
  {
   "cell_type": "code",
   "execution_count": 13,
   "metadata": {},
   "outputs": [],
   "source": [
    "def partial_pivoting_gauss_jordan(coefficients, constants):\n",
    "    n = coefficients.shape[0]\n",
    "\n",
    "    row_indices = [i for i in range(n)]\n",
    "\n",
    "    for leftmost in range(n):\n",
    "        k = leftmost\n",
    "\n",
    "        for row in range(leftmost, n):\n",
    "\n",
    "            if abs(coefficients[row_indices[row]][leftmost]) >  abs(coefficients[row_indices[k]][leftmost]):\n",
    "                k = row\n",
    "\n",
    "            row_indices[leftmost], row_indices[k] = row_indices[k], row_indices[leftmost]\n",
    "            \n",
    "        if abs(coefficients[row_indices[leftmost]][k]) == 0:\n",
    "            raise ValueError(\"Singular matrix! Cannot solve that system of equations :(\")\n",
    "        \n",
    "        else:\n",
    "            for row in range(leftmost + 1, n):    \n",
    "                ratio = coefficients[row_indices[row]][leftmost] / coefficients[row_indices[leftmost]][leftmost]\n",
    "\n",
    "                constants[row_indices[row]] -= ratio * constants[row_indices[leftmost]]\n",
    "\n",
    "                coefficients[row_indices[row]] -= ratio * coefficients[row_indices[leftmost]]\n",
    "\n",
    "    for col in range(n - 1, -1, -1):\n",
    "        constants[row_indices[col]] /= coefficients[row_indices[col]][col]\n",
    "        coefficients[row_indices[col]] /= coefficients[row_indices[col]][col]\n",
    "        \n",
    "        for row in range(col):\n",
    "            ratio = coefficients[row_indices[row]][col] / coefficients[row_indices[col]][col]\n",
    "\n",
    "            constants[row_indices[row]] -= ratio * constants[row_indices[col]]\n",
    "            coefficients[row_indices[row]] -= ratio * coefficients[row_indices[col]]\n",
    "\n",
    "    return [constants[row_indices[i]] for i in range(n)]"
   ]
  },
  {
   "cell_type": "code",
   "execution_count": 14,
   "metadata": {},
   "outputs": [],
   "source": [
    "def test_validity(n, eps = 10 ** -8):\n",
    "    coefficients = np.random.random(size = (n, n))\n",
    "    constants = np.random.random(size = n)\n",
    "\n",
    "    timestamp1 = time.time()\n",
    "    \n",
    "    X1 = partial_pivoting_gauss_jordan(coefficients, constants)\n",
    "\n",
    "    timestamp2 = time.time()\n",
    "\n",
    "    X2 = np.linalg.solve(coefficients, constants)\n",
    "\n",
    "    timestamp3 = time.time()\n",
    "\n",
    "    return np.all(abs(X1 - X2) < eps), timestamp2 - timestamp1, timestamp3 - timestamp2"
   ]
  },
  {
   "cell_type": "code",
   "execution_count": 17,
   "metadata": {},
   "outputs": [],
   "source": [
    "def benchmark(eps = 10 ** -8, tests_num = 10, min_dim = 500, dim_step = 50):\n",
    "    \n",
    "    for i in range(tests_num):\n",
    "        print(\"TEST {i}\".format(i = i))\n",
    "        print(\"Size: {n}x{n}\".format(n = min_dim + dim_step * i))\n",
    "        passed, time1, time2 = test_validity(n = min_dim + dim_step * i, eps = eps)\n",
    "        \n",
    "        if passed:\n",
    "            print(\"Passed :)\")\n",
    "            print(\"Custom Gauss Jordan: {time1}, Numpy solve: {time2}\".format(time1 = time1, time2 = time2))\n",
    "        else:\n",
    "            print(\"Failed :(\")"
   ]
  },
  {
   "cell_type": "code",
   "execution_count": 18,
   "metadata": {},
   "outputs": [
    {
     "name": "stdout",
     "output_type": "stream",
     "text": [
      "TEST 0\n",
      "Size: 500x500\n",
      "Passed :)\n",
      "Custom Gauss Jordan: 1.6109111309051514, Numpy solve: 0.0030078887939453125\n",
      "TEST 1\n",
      "Size: 600x600\n",
      "Passed :)\n",
      "Custom Gauss Jordan: 2.230821132659912, Numpy solve: 0.003968000411987305\n",
      "TEST 2\n",
      "Size: 700x700\n",
      "Passed :)\n",
      "Custom Gauss Jordan: 3.336001396179199, Numpy solve: 0.006996631622314453\n",
      "TEST 3\n",
      "Size: 800x800\n",
      "Passed :)\n",
      "Custom Gauss Jordan: 4.6985650062561035, Numpy solve: 0.014004230499267578\n",
      "TEST 4\n",
      "Size: 900x900\n",
      "Passed :)\n",
      "Custom Gauss Jordan: 5.675527572631836, Numpy solve: 0.009992837905883789\n",
      "TEST 5\n",
      "Size: 1000x1000\n",
      "Passed :)\n",
      "Custom Gauss Jordan: 6.138949394226074, Numpy solve: 0.016002178192138672\n",
      "TEST 6\n",
      "Size: 1100x1100\n",
      "Passed :)\n",
      "Custom Gauss Jordan: 7.380248308181763, Numpy solve: 0.015963077545166016\n",
      "TEST 7\n",
      "Size: 1200x1200\n",
      "Passed :)\n",
      "Custom Gauss Jordan: 10.000917911529541, Numpy solve: 0.01999640464782715\n",
      "TEST 8\n",
      "Size: 1300x1300\n",
      "Passed :)\n",
      "Custom Gauss Jordan: 12.848966598510742, Numpy solve: 0.041962623596191406\n",
      "TEST 9\n",
      "Size: 1400x1400\n",
      "Passed :)\n",
      "Custom Gauss Jordan: 13.5867760181427, Numpy solve: 0.0389707088470459\n"
     ]
    }
   ],
   "source": [
    "benchmark(tests_num = 10, min_dim = 500, dim_step = 100)"
   ]
  }
 ],
 "metadata": {
  "kernelspec": {
   "display_name": "my-env",
   "language": "python",
   "name": "python3"
  },
  "language_info": {
   "codemirror_mode": {
    "name": "ipython",
    "version": 3
   },
   "file_extension": ".py",
   "mimetype": "text/x-python",
   "name": "python",
   "nbconvert_exporter": "python",
   "pygments_lexer": "ipython3",
   "version": "3.12.2"
  }
 },
 "nbformat": 4,
 "nbformat_minor": 2
}
