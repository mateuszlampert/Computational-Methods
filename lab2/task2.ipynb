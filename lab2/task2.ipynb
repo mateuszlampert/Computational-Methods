{
 "cells": [
  {
   "cell_type": "markdown",
   "metadata": {},
   "source": [
    "# Zadanie 2"
   ]
  },
  {
   "cell_type": "code",
   "execution_count": 6,
   "metadata": {},
   "outputs": [],
   "source": [
    "import numpy as np\n",
    "import time\n",
    "from copy import deepcopy"
   ]
  },
  {
   "cell_type": "code",
   "execution_count": 7,
   "metadata": {},
   "outputs": [],
   "source": [
    "def LU_factorization(matrix):\n",
    "    n = matrix.shape[0]\n",
    "\n",
    "    for i in range(n):\n",
    "        \n",
    "        tmp = matrix[i][i]\n",
    "\n",
    "        for row in range(i + 1, n):\n",
    "\n",
    "            ratio = matrix[row][i] / tmp\n",
    "\n",
    "            for col in range(i, n):\n",
    "                matrix[row][col] -= ratio * matrix[i][col]\n",
    "            \n",
    "            matrix[row][i] = ratio\n",
    "\n",
    "    return matrix\n"
   ]
  },
  {
   "cell_type": "code",
   "execution_count": 8,
   "metadata": {},
   "outputs": [],
   "source": [
    "def test_validity(n, eps = 10 ** -8):\n",
    "    A = np.random.random(size = (n, n))\n",
    "    B = deepcopy(A)\n",
    "\n",
    "    timestamp1 = time.time()\n",
    "\n",
    "    LU1 = LU_factorization(A)\n",
    "\n",
    "    U1 = np.triu(LU1)\n",
    "    L1 = np.tril(LU1)\n",
    "\n",
    "    np.fill_diagonal(L1, 1)\n",
    "\n",
    "    timestamp2 = time.time()\n",
    "\n",
    "    norm = np.linalg.norm(B - L1 @ U1)\n",
    "\n",
    "    return norm < eps, norm, timestamp2 - timestamp1"
   ]
  },
  {
   "cell_type": "code",
   "execution_count": 9,
   "metadata": {},
   "outputs": [],
   "source": [
    "def benchmark(eps = 10 ** -8, tests_num = 10, min_dim = 25, dim_step = 25):\n",
    "    \n",
    "    for i in range(tests_num):\n",
    "        print(\"TEST {i}\".format(i = i))\n",
    "        print(\"Size: {n}\".format(n = min_dim + dim_step * i))\n",
    "        passed, norm, time1 = test_validity(n = min_dim + dim_step * i, eps = eps)\n",
    "        \n",
    "        if passed:\n",
    "            print(\"Passed :)\")\n",
    "            print(\"Custom LU factorization: ||A - LU|| = {norm}, time: {time1}\".format(time1 = time1, norm = norm))\n",
    "\n",
    "        else:\n",
    "            print(\"Failed :(\")"
   ]
  },
  {
   "cell_type": "code",
   "execution_count": 10,
   "metadata": {},
   "outputs": [
    {
     "name": "stdout",
     "output_type": "stream",
     "text": [
      "TEST 0\n",
      "Size: 25\n",
      "Passed :)\n",
      "Custom LU factorization: ||A - LU|| = 2.250530726200953e-14, time: 0.008002281188964844\n",
      "TEST 1\n",
      "Size: 50\n",
      "Passed :)\n",
      "Custom LU factorization: ||A - LU|| = 4.298988589482043e-13, time: 0.05299997329711914\n",
      "TEST 2\n",
      "Size: 75\n",
      "Passed :)\n",
      "Custom LU factorization: ||A - LU|| = 2.288545719611833e-13, time: 0.22401690483093262\n",
      "TEST 3\n",
      "Size: 100\n",
      "Passed :)\n",
      "Custom LU factorization: ||A - LU|| = 5.007741748906342e-12, time: 0.34299445152282715\n",
      "TEST 4\n",
      "Size: 125\n",
      "Passed :)\n",
      "Custom LU factorization: ||A - LU|| = 2.2754705504214236e-12, time: 0.5613522529602051\n",
      "TEST 5\n",
      "Size: 150\n",
      "Passed :)\n",
      "Custom LU factorization: ||A - LU|| = 3.6054581921621067e-12, time: 0.9070699214935303\n",
      "TEST 6\n",
      "Size: 175\n",
      "Passed :)\n",
      "Custom LU factorization: ||A - LU|| = 7.97900401044707e-12, time: 1.5262601375579834\n",
      "TEST 7\n",
      "Size: 200\n",
      "Passed :)\n",
      "Custom LU factorization: ||A - LU|| = 4.365698460668976e-12, time: 2.223844289779663\n",
      "TEST 8\n",
      "Size: 225\n",
      "Passed :)\n",
      "Custom LU factorization: ||A - LU|| = 3.226338679305736e-11, time: 3.306105613708496\n",
      "TEST 9\n",
      "Size: 250\n",
      "Passed :)\n",
      "Custom LU factorization: ||A - LU|| = 4.4341213199469316e-10, time: 4.697765111923218\n"
     ]
    }
   ],
   "source": [
    "benchmark()"
   ]
  }
 ],
 "metadata": {
  "kernelspec": {
   "display_name": "my-env",
   "language": "python",
   "name": "python3"
  },
  "language_info": {
   "codemirror_mode": {
    "name": "ipython",
    "version": 3
   },
   "file_extension": ".py",
   "mimetype": "text/x-python",
   "name": "python",
   "nbconvert_exporter": "python",
   "pygments_lexer": "ipython3",
   "version": "3.12.2"
  }
 },
 "nbformat": 4,
 "nbformat_minor": 2
}
