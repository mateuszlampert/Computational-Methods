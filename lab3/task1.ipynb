{
 "cells": [
  {
   "cell_type": "code",
   "execution_count": 61,
   "metadata": {},
   "outputs": [],
   "source": [
    "from mpmath import mp, mpf\n",
    "import numpy as np"
   ]
  },
  {
   "cell_type": "code",
   "execution_count": 62,
   "metadata": {},
   "outputs": [],
   "source": [
    "mp.dps = 50"
   ]
  },
  {
   "cell_type": "code",
   "execution_count": 6,
   "metadata": {},
   "outputs": [],
   "source": [
    "def f1(x):\n",
    "    return np.cos(x) * np.cosh(x)"
   ]
  },
  {
   "cell_type": "code",
   "execution_count": 29,
   "metadata": {},
   "outputs": [],
   "source": [
    "def df1(x):\n",
    "    result = np.cos(x) * np.sinh(x) - np.sin(x) * np.cosh(x)\n",
    "\n",
    "    if result == 0:\n",
    "        return df1(x + 10 ** -15)\n",
    "    \n",
    "    else:\n",
    "        return f1(x), result"
   ]
  },
  {
   "cell_type": "code",
   "execution_count": 55,
   "metadata": {},
   "outputs": [],
   "source": [
    "def f2(x):\n",
    "    if x == 0:\n",
    "        x = x + 10 ** -12\n",
    "\n",
    "    return 1 / x - np.tan(x)"
   ]
  },
  {
   "cell_type": "code",
   "execution_count": 54,
   "metadata": {},
   "outputs": [],
   "source": [
    "def df2(x):\n",
    "    if x == 0 or np.cos(x) == 0:\n",
    "        x = x + 10 ** -15\n",
    "\n",
    "    result = -1 / x ** 2 - 1 / (np.cos(x) * np.cos(x))\n",
    "\n",
    "    if result == 0:\n",
    "        return df2(x + 10 ** -15)\n",
    "    \n",
    "    else:\n",
    "        return f2(x), result"
   ]
  },
  {
   "cell_type": "code",
   "execution_count": 8,
   "metadata": {},
   "outputs": [],
   "source": [
    "def f3(x):\n",
    "    return 2 ** (-x) + np.e ** x + 2 * np.cos(x) - 6"
   ]
  },
  {
   "cell_type": "code",
   "execution_count": 28,
   "metadata": {},
   "outputs": [],
   "source": [
    "def df3(x):\n",
    "    result = np.e ** x - 2 ** (-x) * np.log10(2) - 2 * np.sin(x)\n",
    "\n",
    "    if result == 0:\n",
    "        return df3(x + 10 ** -15)\n",
    "    \n",
    "    else:\n",
    "        return f3(x), result"
   ]
  },
  {
   "cell_type": "code",
   "execution_count": 102,
   "metadata": {},
   "outputs": [],
   "source": [
    "def bisection(f, low, high, max_no_iter = 1000, eps = 10 ** -8, delta = 10 ** -8):\n",
    "\n",
    "    for i in range(max_no_iter):\n",
    "        mid = low + (high - low) / 2\n",
    "\n",
    "        if abs(high - low) < eps:\n",
    "            return mid, i, 1\n",
    "        \n",
    "        elif abs(f(mid)) < delta:\n",
    "            return mid, i, 2\n",
    "    \n",
    "        else:\n",
    "            if np.sign(f(mid)) * np.sign(f(low)) < 0:\n",
    "                high = mid\n",
    "            else:\n",
    "                low = mid\n",
    "\n",
    "    return mid, i, 3"
   ]
  },
  {
   "cell_type": "code",
   "execution_count": 103,
   "metadata": {},
   "outputs": [
    {
     "data": {
      "text/plain": [
       "(4.712388983310525, 28, 1)"
      ]
     },
     "execution_count": 103,
     "metadata": {},
     "output_type": "execute_result"
    }
   ],
   "source": [
    "bisection(f1, 3 / 2 * np.pi, 2 * np.pi)"
   ]
  },
  {
   "cell_type": "code",
   "execution_count": 73,
   "metadata": {},
   "outputs": [
    {
     "data": {
      "text/plain": [
       "(0.8603335906787782, 26, 2)"
      ]
     },
     "execution_count": 73,
     "metadata": {},
     "output_type": "execute_result"
    }
   ],
   "source": [
    "bisection(f2, 0, np.pi / 2)"
   ]
  },
  {
   "cell_type": "code",
   "execution_count": 74,
   "metadata": {},
   "outputs": [
    {
     "data": {
      "text/plain": [
       "(1.8293836042284966, 27, 2)"
      ]
     },
     "execution_count": 74,
     "metadata": {},
     "output_type": "execute_result"
    }
   ],
   "source": [
    "bisection(f3, 1, 3)"
   ]
  },
  {
   "cell_type": "code",
   "execution_count": 94,
   "metadata": {},
   "outputs": [],
   "source": [
    "def newton(df, low, high, start, max_no_iter = 1000, eps = 10 ** -4):\n",
    "\n",
    "    x = start\n",
    "\n",
    "    for i in range(max_no_iter):\n",
    "        f_x, df_x = df(x)\n",
    "        tmp = x\n",
    "        x = x - f_x / df_x\n",
    "\n",
    "        if abs(x - tmp) < eps:\n",
    "            return x, i\n",
    "\n",
    "\n",
    "    return x, i"
   ]
  },
  {
   "cell_type": "code",
   "execution_count": 96,
   "metadata": {},
   "outputs": [
    {
     "data": {
      "text/plain": [
       "(4.712388980496543, 3)"
      ]
     },
     "execution_count": 96,
     "metadata": {},
     "output_type": "execute_result"
    }
   ],
   "source": [
    "newton(df1, 3 / 2 * np.pi, 2 * np.pi, 5)"
   ]
  },
  {
   "cell_type": "code",
   "execution_count": 97,
   "metadata": {},
   "outputs": [
    {
     "data": {
      "text/plain": [
       "(0.860333589019381, 3)"
      ]
     },
     "execution_count": 97,
     "metadata": {},
     "output_type": "execute_result"
    }
   ],
   "source": [
    "newton(df2, 0, np.pi / 2, 0.5)"
   ]
  },
  {
   "cell_type": "code",
   "execution_count": 98,
   "metadata": {},
   "outputs": [
    {
     "data": {
      "text/plain": [
       "(1.8293841113660112, 6)"
      ]
     },
     "execution_count": 98,
     "metadata": {},
     "output_type": "execute_result"
    }
   ],
   "source": [
    "newton(df3, 1, 3, 1)"
   ]
  },
  {
   "cell_type": "code",
   "execution_count": 99,
   "metadata": {},
   "outputs": [],
   "source": [
    "def secants(f, low, high, max_no_iter = 1000, eps = 10 ** -8):\n",
    "\n",
    "    a = low + (high - low) / 2 # x_0\n",
    "    b = high # x_1\n",
    "\n",
    "    for i in range(max_no_iter):\n",
    "        x = b - f(b) * (b - a) / (f(b) - f(a))\n",
    "\n",
    "        if abs(x - b) < eps:\n",
    "            return x, i\n",
    "\n",
    "        else:\n",
    "            a, b = b, x\n",
    "\n",
    "    return x, i"
   ]
  },
  {
   "cell_type": "code",
   "execution_count": 100,
   "metadata": {},
   "outputs": [
    {
     "data": {
      "text/plain": [
       "(4.712388980384691, 5)"
      ]
     },
     "execution_count": 100,
     "metadata": {},
     "output_type": "execute_result"
    }
   ],
   "source": [
    "secants(f1, 3 / 2 * np.pi, 5)"
   ]
  },
  {
   "cell_type": "code",
   "execution_count": 86,
   "metadata": {},
   "outputs": [
    {
     "data": {
      "text/plain": [
       "(0.7853981633974483, 1)"
      ]
     },
     "execution_count": 86,
     "metadata": {},
     "output_type": "execute_result"
    }
   ],
   "source": [
    "secants(f2, 0, np.pi / 2)"
   ]
  },
  {
   "cell_type": "code",
   "execution_count": 101,
   "metadata": {},
   "outputs": [
    {
     "data": {
      "text/plain": [
       "(1.8293836019338492, 6)"
      ]
     },
     "execution_count": 101,
     "metadata": {},
     "output_type": "execute_result"
    }
   ],
   "source": [
    "secants(f3, 1, 3)"
   ]
  }
 ],
 "metadata": {
  "kernelspec": {
   "display_name": "my-env",
   "language": "python",
   "name": "python3"
  },
  "language_info": {
   "codemirror_mode": {
    "name": "ipython",
    "version": 3
   },
   "file_extension": ".py",
   "mimetype": "text/x-python",
   "name": "python",
   "nbconvert_exporter": "python",
   "pygments_lexer": "ipython3",
   "version": "3.12.2"
  }
 },
 "nbformat": 4,
 "nbformat_minor": 2
}
